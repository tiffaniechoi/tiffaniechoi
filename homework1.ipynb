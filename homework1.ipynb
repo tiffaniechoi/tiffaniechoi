{
  "nbformat": 4,
  "nbformat_minor": 0,
  "metadata": {
    "colab": {
      "name": "homework1.ipynb",
      "provenance": [],
      "collapsed_sections": [],
      "include_colab_link": true
    },
    "deepnote": {},
    "deepnote_execution_queue": [],
    "deepnote_notebook_id": "73648157-0b6f-4106-b0e5-205f0a8e1728",
    "kernelspec": {
      "display_name": "Python 3",
      "language": "python",
      "name": "python3"
    },
    "language_info": {
      "codemirror_mode": {
        "name": "ipython",
        "version": 3
      },
      "file_extension": ".py",
      "mimetype": "text/x-python",
      "name": "python",
      "nbconvert_exporter": "python",
      "pygments_lexer": "ipython3",
      "version": "3.6.5"
    }
  },
  "cells": [
    {
      "cell_type": "markdown",
      "metadata": {
        "id": "view-in-github",
        "colab_type": "text"
      },
      "source": [
        "<a href=\"https://colab.research.google.com/github/tiffaniechoi/tiffaniechoi/blob/main/homework1.ipynb\" target=\"_parent\"><img src=\"https://colab.research.google.com/assets/colab-badge.svg\" alt=\"Open In Colab\"/></a>"
      ]
    },
    {
      "cell_type": "code",
      "metadata": {
        "cell_id": "00000-f051525d-6516-4ee8-b6ed-6a7bbd92db73",
        "deepnote_cell_type": "code",
        "deepnote_to_be_reexecuted": false,
        "execution_millis": 164,
        "execution_start": 1612928220123,
        "id": "VXCsLT-rUfrL",
        "source_hash": "927a627c",
        "tags": []
      },
      "source": [
        "# HOMEWORK 1 - Remember to answer questions with comments and Python code to ensure you're communicating your answers effectively!\n",
        "# If you have any general questions, please send them into the #bmgt438a-fall21 Slack channel!\n",
        "import numpy as np\n",
        "import pandas as pd\n",
        "import matplotlib.pyplot as plt\n",
        "df = pd.read_csv('questselections18.csv')"
      ],
      "execution_count": 64,
      "outputs": []
    },
    {
      "cell_type": "code",
      "metadata": {
        "cell_id": "00001-4e05bb8d-a5e1-40e8-960e-54eed79b135d",
        "deepnote_cell_type": "code",
        "deepnote_to_be_reexecuted": false,
        "execution_millis": 16,
        "execution_start": 1612928220300,
        "id": "1ahRsfrRUfrP",
        "source_hash": "1fd29191",
        "tags": [],
        "colab": {
          "base_uri": "https://localhost:8080/",
          "height": 204
        },
        "outputId": "42215133-7ea5-4dbf-8bf1-798f0c81aa9a"
      },
      "source": [
        "# Take a look at the different columns to understand the data\n",
        "df.head()"
      ],
      "execution_count": 65,
      "outputs": [
        {
          "output_type": "execute_result",
          "data": {
            "text/html": [
              "<div>\n",
              "<style scoped>\n",
              "    .dataframe tbody tr th:only-of-type {\n",
              "        vertical-align: middle;\n",
              "    }\n",
              "\n",
              "    .dataframe tbody tr th {\n",
              "        vertical-align: top;\n",
              "    }\n",
              "\n",
              "    .dataframe thead th {\n",
              "        text-align: right;\n",
              "    }\n",
              "</style>\n",
              "<table border=\"1\" class=\"dataframe\">\n",
              "  <thead>\n",
              "    <tr style=\"text-align: right;\">\n",
              "      <th></th>\n",
              "      <th>id</th>\n",
              "      <th>credits</th>\n",
              "      <th>gpa</th>\n",
              "      <th>school</th>\n",
              "      <th>score</th>\n",
              "      <th>interview</th>\n",
              "    </tr>\n",
              "  </thead>\n",
              "  <tbody>\n",
              "    <tr>\n",
              "      <th>0</th>\n",
              "      <td>1757</td>\n",
              "      <td>15</td>\n",
              "      <td>3.55</td>\n",
              "      <td>CMNS</td>\n",
              "      <td>3.5</td>\n",
              "      <td>1</td>\n",
              "    </tr>\n",
              "    <tr>\n",
              "      <th>1</th>\n",
              "      <td>1760</td>\n",
              "      <td>15</td>\n",
              "      <td>4.00</td>\n",
              "      <td>CMNS</td>\n",
              "      <td>4.0</td>\n",
              "      <td>1</td>\n",
              "    </tr>\n",
              "    <tr>\n",
              "      <th>2</th>\n",
              "      <td>1761</td>\n",
              "      <td>15</td>\n",
              "      <td>3.45</td>\n",
              "      <td>Clark</td>\n",
              "      <td>4.5</td>\n",
              "      <td>1</td>\n",
              "    </tr>\n",
              "    <tr>\n",
              "      <th>3</th>\n",
              "      <td>1762</td>\n",
              "      <td>18</td>\n",
              "      <td>3.40</td>\n",
              "      <td>Clark</td>\n",
              "      <td>4.5</td>\n",
              "      <td>1</td>\n",
              "    </tr>\n",
              "    <tr>\n",
              "      <th>4</th>\n",
              "      <td>1763</td>\n",
              "      <td>19</td>\n",
              "      <td>3.38</td>\n",
              "      <td>Smith</td>\n",
              "      <td>2.5</td>\n",
              "      <td>0</td>\n",
              "    </tr>\n",
              "  </tbody>\n",
              "</table>\n",
              "</div>"
            ],
            "text/plain": [
              "     id  credits   gpa school  score  interview\n",
              "0  1757       15  3.55   CMNS    3.5          1\n",
              "1  1760       15  4.00   CMNS    4.0          1\n",
              "2  1761       15  3.45  Clark    4.5          1\n",
              "3  1762       18  3.40  Clark    4.5          1\n",
              "4  1763       19  3.38  Smith    2.5          0"
            ]
          },
          "metadata": {},
          "execution_count": 65
        }
      ]
    },
    {
      "cell_type": "markdown",
      "metadata": {
        "cell_id": "00002-6ed673ba-f2b2-4e9b-92b4-1790b9cc9810",
        "deepnote_cell_type": "markdown",
        "id": "_LEAvRIKUfrR",
        "tags": []
      },
      "source": [
        "QUESTION 1: Let's start with addressing data quality issues. What issue(s) do you notice in this data and how can you clean it? Then, clean the dataframe. \n",
        "*Hint: This involves filtering (or removing rows) in your dataframe. Research how you may go about this.*"
      ]
    },
    {
      "cell_type": "code",
      "metadata": {
        "colab": {
          "base_uri": "https://localhost:8080/",
          "height": 359
        },
        "id": "wK563H7xI6Pv",
        "outputId": "33d49259-bf82-4ae0-ca15-7452ee27c052"
      },
      "source": [
        "missing_values = []\n",
        "\n",
        "for index, row in df.iterrows():\n",
        "  if row['credits'] == 0 or row['gpa'] == 0:\n",
        "    missing_values.append(index)\n",
        "   \n",
        "df = df.drop(missing_values)\n",
        "\n",
        "df.head(10)\n",
        "\n",
        "## I noticed that some rows either had missing credits or gpa (0 credits or gpa).\n",
        "## I cleaned it by dropping all rows with the missing data. As shown above, \n",
        "## index 8 was one of the missing values, but it was now removed. "
      ],
      "execution_count": 66,
      "outputs": [
        {
          "output_type": "execute_result",
          "data": {
            "text/html": [
              "<div>\n",
              "<style scoped>\n",
              "    .dataframe tbody tr th:only-of-type {\n",
              "        vertical-align: middle;\n",
              "    }\n",
              "\n",
              "    .dataframe tbody tr th {\n",
              "        vertical-align: top;\n",
              "    }\n",
              "\n",
              "    .dataframe thead th {\n",
              "        text-align: right;\n",
              "    }\n",
              "</style>\n",
              "<table border=\"1\" class=\"dataframe\">\n",
              "  <thead>\n",
              "    <tr style=\"text-align: right;\">\n",
              "      <th></th>\n",
              "      <th>id</th>\n",
              "      <th>credits</th>\n",
              "      <th>gpa</th>\n",
              "      <th>school</th>\n",
              "      <th>score</th>\n",
              "      <th>interview</th>\n",
              "    </tr>\n",
              "  </thead>\n",
              "  <tbody>\n",
              "    <tr>\n",
              "      <th>0</th>\n",
              "      <td>1757</td>\n",
              "      <td>15</td>\n",
              "      <td>3.55</td>\n",
              "      <td>CMNS</td>\n",
              "      <td>3.5</td>\n",
              "      <td>1</td>\n",
              "    </tr>\n",
              "    <tr>\n",
              "      <th>1</th>\n",
              "      <td>1760</td>\n",
              "      <td>15</td>\n",
              "      <td>4.00</td>\n",
              "      <td>CMNS</td>\n",
              "      <td>4.0</td>\n",
              "      <td>1</td>\n",
              "    </tr>\n",
              "    <tr>\n",
              "      <th>2</th>\n",
              "      <td>1761</td>\n",
              "      <td>15</td>\n",
              "      <td>3.45</td>\n",
              "      <td>Clark</td>\n",
              "      <td>4.5</td>\n",
              "      <td>1</td>\n",
              "    </tr>\n",
              "    <tr>\n",
              "      <th>3</th>\n",
              "      <td>1762</td>\n",
              "      <td>18</td>\n",
              "      <td>3.40</td>\n",
              "      <td>Clark</td>\n",
              "      <td>4.5</td>\n",
              "      <td>1</td>\n",
              "    </tr>\n",
              "    <tr>\n",
              "      <th>4</th>\n",
              "      <td>1763</td>\n",
              "      <td>19</td>\n",
              "      <td>3.38</td>\n",
              "      <td>Smith</td>\n",
              "      <td>2.5</td>\n",
              "      <td>0</td>\n",
              "    </tr>\n",
              "    <tr>\n",
              "      <th>5</th>\n",
              "      <td>1765</td>\n",
              "      <td>20</td>\n",
              "      <td>3.96</td>\n",
              "      <td>CMNS</td>\n",
              "      <td>3.0</td>\n",
              "      <td>1</td>\n",
              "    </tr>\n",
              "    <tr>\n",
              "      <th>6</th>\n",
              "      <td>1766</td>\n",
              "      <td>18</td>\n",
              "      <td>4.00</td>\n",
              "      <td>Clark</td>\n",
              "      <td>4.0</td>\n",
              "      <td>1</td>\n",
              "    </tr>\n",
              "    <tr>\n",
              "      <th>7</th>\n",
              "      <td>1768</td>\n",
              "      <td>17</td>\n",
              "      <td>3.37</td>\n",
              "      <td>Clark</td>\n",
              "      <td>3.0</td>\n",
              "      <td>0</td>\n",
              "    </tr>\n",
              "    <tr>\n",
              "      <th>9</th>\n",
              "      <td>1770</td>\n",
              "      <td>16</td>\n",
              "      <td>3.89</td>\n",
              "      <td>Smith</td>\n",
              "      <td>4.0</td>\n",
              "      <td>1</td>\n",
              "    </tr>\n",
              "    <tr>\n",
              "      <th>10</th>\n",
              "      <td>1771</td>\n",
              "      <td>17</td>\n",
              "      <td>4.00</td>\n",
              "      <td>Clark</td>\n",
              "      <td>4.0</td>\n",
              "      <td>1</td>\n",
              "    </tr>\n",
              "  </tbody>\n",
              "</table>\n",
              "</div>"
            ],
            "text/plain": [
              "      id  credits   gpa school  score  interview\n",
              "0   1757       15  3.55   CMNS    3.5          1\n",
              "1   1760       15  4.00   CMNS    4.0          1\n",
              "2   1761       15  3.45  Clark    4.5          1\n",
              "3   1762       18  3.40  Clark    4.5          1\n",
              "4   1763       19  3.38  Smith    2.5          0\n",
              "5   1765       20  3.96   CMNS    3.0          1\n",
              "6   1766       18  4.00  Clark    4.0          1\n",
              "7   1768       17  3.37  Clark    3.0          0\n",
              "9   1770       16  3.89  Smith    4.0          1\n",
              "10  1771       17  4.00  Clark    4.0          1"
            ]
          },
          "metadata": {},
          "execution_count": 66
        }
      ]
    },
    {
      "cell_type": "markdown",
      "metadata": {
        "cell_id": "00004-74750974-9fd1-4a67-9522-90ea03574191",
        "deepnote_cell_type": "markdown",
        "id": "FShiPw8NUfrS",
        "tags": []
      },
      "source": [
        "QUESTION 2: Write some Python code to determine how many students are in CMNS, Clark, and Smith.\n"
      ]
    },
    {
      "cell_type": "code",
      "metadata": {
        "cell_id": "00005-d4e80ef3-c740-4e04-a6b3-ff93a0869512",
        "deepnote_cell_type": "code",
        "deepnote_to_be_reexecuted": false,
        "execution_millis": 2,
        "execution_start": 1612928220319,
        "id": "MDXYGv00UfrS",
        "source_hash": "7d2633aa",
        "tags": [],
        "colab": {
          "base_uri": "https://localhost:8080/"
        },
        "outputId": "cd51fe00-2295-42c1-b1b0-bf2b85a136c2"
      },
      "source": [
        "cmns = np.where(df['school']=='CMNS')\n",
        "clark = np.where(df['school']=='Clark')\n",
        "smith = np.where(df['school']=='Smith')\n",
        "\n",
        "cmns = len(cmns[0])\n",
        "clark = len(clark[0])\n",
        "smith = len(smith[0])\n",
        "\n",
        "num_students =  cmns + clark + smith \n",
        "\n",
        "print('CMNS: ' + str(cmns))\n",
        "print('Clark: ' + str(clark))\n",
        "print('Smith: ' + str(smith))\n",
        "print('\\nThere are a total of ' + str(num_students) + \n",
        "      ' students in CMNS, Clark, and Smith.')\n",
        "\n",
        "# There are 71 students in CMNS, 61 students in Clark, and 94 students in Smith. \n",
        "# There are a total of 226 students in CMNS, Clark, and Smith."
      ],
      "execution_count": null,
      "outputs": [
        {
          "output_type": "stream",
          "name": "stdout",
          "text": [
            "CMNS: 71\n",
            "Clark: 61\n",
            "Smith: 94\n",
            "\n",
            "There are a total of 226 students in CMNS, Clark, and Smith.\n"
          ]
        }
      ]
    },
    {
      "cell_type": "markdown",
      "metadata": {
        "cell_id": "00006-c7a82d20-2258-42e2-b77e-f88f85d77a7b",
        "deepnote_cell_type": "markdown",
        "id": "vzuTYgLDUfrT",
        "tags": []
      },
      "source": [
        "QUESTION 3: We are interested in the determining if school (CMNS vs Clark vs Smith) has any effect on whether or not an applicant gets an interview.\n",
        "Write code to find the numbers of applicants that get interviews from each school. Which school had the most applicants with interviews? Why could this the case?"
      ]
    },
    {
      "cell_type": "code",
      "metadata": {
        "cell_id": "00007-344a762e-bc60-4391-9b15-65bca9e82c74",
        "deepnote_cell_type": "code",
        "deepnote_to_be_reexecuted": false,
        "execution_millis": 2,
        "execution_start": 1612928220323,
        "id": "2xDSNB14UfrT",
        "source_hash": "7d2633aa",
        "tags": [],
        "colab": {
          "base_uri": "https://localhost:8080/"
        },
        "outputId": "b5074a52-7fb8-4dc8-c25a-867e43af0e8f"
      },
      "source": [
        "interviews = {'CMNS': 0, 'Clark': 0, 'Smith': 0}\n",
        "\n",
        "for index, row in df.iterrows():\n",
        "  school = row['school']\n",
        "  interview = row['interview']\n",
        "\n",
        "  interviews[school] += interview\n",
        "\n",
        "interviews\n",
        "  \n",
        "# {'CMNS': 45, 'Clark': 45, 'Smith': 56}\n",
        "\n",
        "# Smith school had the most applicants with interviews. This could be the case\n",
        "# because Smith school had the highest number of applicants overall compared to \n",
        "# CMNS and Clark as shown in the data above."
      ],
      "execution_count": null,
      "outputs": [
        {
          "output_type": "execute_result",
          "data": {
            "text/plain": [
              "{'CMNS': 45, 'Clark': 45, 'Smith': 56}"
            ]
          },
          "metadata": {},
          "execution_count": 6
        }
      ]
    },
    {
      "cell_type": "markdown",
      "metadata": {
        "cell_id": "00008-3e5874b2-48b4-403d-b554-65b1c79c292c",
        "deepnote_cell_type": "markdown",
        "id": "0mkRHfUWUfrT",
        "tags": []
      },
      "source": [
        "QUESTION 4: We are interested in determining the relationships between school (CMNS vs Clark vs Smith) and application score. Create a boxplot to examine this\n",
        "relationship between school and application score. What do you notice?"
      ]
    },
    {
      "cell_type": "code",
      "metadata": {
        "cell_id": "00009-7e0bba13-0105-496f-b5fe-a7c81bc036b0",
        "deepnote_cell_type": "code",
        "deepnote_to_be_reexecuted": false,
        "execution_millis": 1,
        "execution_start": 1612928220339,
        "id": "SWcoVi2OUfrU",
        "source_hash": "7d2633aa",
        "tags": [],
        "colab": {
          "base_uri": "https://localhost:8080/",
          "height": 355
        },
        "outputId": "7b504084-4260-48e1-f33b-952e9dfc7077"
      },
      "source": [
        "boxplot = df.boxplot(column=['score'], by=['school'])\n",
        "\n",
        "## I notice that Clark school has the highest upper quartile of scores compared \n",
        "## to CMNS and Smith, and Smith and CMNS has the lowest quartile of scores \n",
        "## compared to the Clark.\n",
        "\n",
        "## I also notice that CMNS and Clark school has the same median score, and \n",
        "## Smith school has the lowest median score. \n",
        "\n",
        "## Lastly, I notice that all schools has the same max and min for scores overall. "
      ],
      "execution_count": null,
      "outputs": [
        {
          "output_type": "stream",
          "name": "stderr",
          "text": [
            "/usr/local/lib/python3.7/dist-packages/numpy/core/_asarray.py:83: VisibleDeprecationWarning: Creating an ndarray from ragged nested sequences (which is a list-or-tuple of lists-or-tuples-or ndarrays with different lengths or shapes) is deprecated. If you meant to do this, you must specify 'dtype=object' when creating the ndarray\n",
            "  return array(a, dtype, copy=False, order=order)\n"
          ]
        },
        {
          "output_type": "display_data",
          "data": {
            "image/png": "[encoded data removed]",
            "text/plain": [
              "<Figure size 432x288 with 1 Axes>"
            ]
          },
          "metadata": {
            "needs_background": "light"
          }
        }
      ]
    },
    {
      "cell_type": "markdown",
      "metadata": {
        "id": "9IAF8PvXrnT2"
      },
      "source": [
        ""
      ]
    },
    {
      "cell_type": "markdown",
      "metadata": {
        "cell_id": "00010-c2b06e84-254a-40ce-b7e8-68eafa162846",
        "deepnote_cell_type": "markdown",
        "id": "npeIXDqVUfrV",
        "tags": []
      },
      "source": [
        "QUESTION 5: The 'id' variable is an ordinal variable, meaning that the smaller the id, the earlier the particular student started the application. We're\n",
        "interested in finding out whether students who started applying earlier tended to get a better application score. Create a scatterplot of ID vs Score, and then\n",
        "explain what you see in your scatterplot and what it means in terms of the question."
      ]
    },
    {
      "cell_type": "code",
      "metadata": {
        "cell_id": "00011-f2f4f885-060c-4a62-9b2a-eda0ca47f9c2",
        "deepnote_cell_type": "code",
        "deepnote_to_be_reexecuted": false,
        "execution_millis": 0,
        "execution_start": 1612928220341,
        "id": "X8mPx4XWUfrV",
        "source_hash": "7d2633aa",
        "tags": [],
        "colab": {
          "base_uri": "https://localhost:8080/",
          "height": 279
        },
        "outputId": "dec53e3e-f3c9-4e1d-f8b8-137635b9512d"
      },
      "source": [
        "scatter = df.plot.scatter(x = 'id',y = 'score')\n",
        "\n",
        "## I see that the scores are higher for lower value IDs. This means that people\n",
        "## who applied earlier in the process had more higher scores compared to people \n",
        "## who applied later in the application process. "
      ],
      "execution_count": null,
      "outputs": [
        {
          "output_type": "display_data",
          "data": {
            "image/png": "[encoded data removed]",
            "text/plain": [
              "<Figure size 432x288 with 1 Axes>"
            ]
          },
          "metadata": {
            "needs_background": "light"
          }
        }
      ]
    },
    {
      "cell_type": "markdown",
      "metadata": {
        "cell_id": "00013-3a680fae-5005-4a19-bdad-e551899bd095",
        "deepnote_cell_type": "markdown",
        "id": "yjaZpb1VUfrx"
      },
      "source": [
        "Challenge Question (optional):\n",
        "\n",
        "A natural question that rises is: what attributes should a student focus on in order to have the best chance at landing an interview? Although typically students are encounraged to be well-rounded, in this exercise we will see which feature (column) other than \"interview\" best stratifies the interview column. We will learn more about this type of feature selection when we discuss Decision Trees (a machine learning tool), but here's a taste."
      ]
    },
    {
      "cell_type": "code",
      "metadata": {
        "cell_id": "00014-53ecccf7-fbd8-4ff7-9536-c8d440ed6b5e",
        "deepnote_cell_type": "code",
        "deepnote_to_be_reexecuted": false,
        "execution_millis": 1,
        "execution_start": 1612928220341,
        "id": "CxuTM-u0Ufry",
        "source_hash": "d69eeefd"
      },
      "source": [
        "import math # in order to use the log function\n",
        "\n",
        "# Question 1: We will calculate a metric that tells us how much variance is in the data called ~entropy~.\n",
        "\n",
        "# Note: Entropy(feature) = -1 * (p_1*log_2(p_1) + ... + p_n*log_2(p_n)), where feature has n different choices/classes,\n",
        "# each p_i denotes the probability of that class occuring, and log_2 is log base 2.\n",
        "# (ie. p_i = (# of rows where feature == i) / (total number of rows))\n",
        "\n",
        "# Part 1:\n",
        "# Calculate the entropy for the interview column (Hint: This column only has 2 classes, n=2)\n",
        "\n",
        "# Part 2:\n",
        "# Select the rows where school == CMNS, then calculate the entropy of interview on that subset\n",
        "# Then print the entropy value\n",
        "\n",
        "# Part 3:\n",
        "# Repeat the same steps for school == Clark and school == Smith (copy-pasta is fine :)\n",
        "# Then print the entropy value"
      ],
      "execution_count": null,
      "outputs": []
    },
    {
      "cell_type": "code",
      "metadata": {
        "cell_id": "00015-a7a77b3f-2930-4433-9add-fca0204509e6",
        "deepnote_cell_type": "code",
        "deepnote_to_be_reexecuted": false,
        "execution_millis": 1,
        "execution_start": 1612928220342,
        "id": "kZNY39AHUfr0",
        "source_hash": "b75152c1"
      },
      "source": [
        "# Question 2:\n",
        "# Now we will do something similar with the gpa column. But since gpa is numerical, \n",
        "# we will split it into >= 3.5 and < 3.5 to make our lives easier.\n",
        "\n",
        "# Part 1: Create a new column called gpa_3.5 where entries are 1 if gpa >= 3.5 and 0 when gpa < 3.5.\n",
        "\n",
        "# Part 2: Repeat part 2 from the previous question for the gpa_3.7 column \n",
        "# (ie. subset by gpa_3.7 == 1 then gpa_3.7 == 0, etc)\n",
        "# Print the entropies\n",
        "\n",
        "# Part 3: \n",
        "# Calculate and print the difference between the entropy of interview (Q1.1) and \n",
        "# the weighted average of 3 entropies from Question 1, Parts 2-3.\n",
        "# ie: Q1.1 - sum((# of rows where school == value) / (total number of rows) * Entropy(school==value))\n",
        "\n",
        "# Calculate and print the difference between the entropy of interview (Q1.1) and \n",
        "# the weighted average of 2 entropies from Question 2, Part 2.\n",
        "\n",
        "# This metric called the information gain is be used to compare the school and gpa_3.5 features in order to \n",
        "# determine which feature better stratifies the target feature, interview. \n",
        "    \n",
        "# Which feature yields a higher information gain?\n",
        "\n",
        "# Stratifying by school yields a higher information gain."
      ],
      "execution_count": null,
      "outputs": []
    },
    {
      "cell_type": "markdown",
      "metadata": {
        "created_in_deepnote_cell": true,
        "deepnote_cell_type": "markdown",
        "tags": [],
        "id": "0fke0RDAjbV8"
      },
      "source": [
        "<a style='text-decoration:none;line-height:16px;display:flex;color:#5B5B62;padding:10px;justify-content:end;' href='https://deepnote.com?utm_source=created-in-deepnote-cell&projectId=e1cde5da-60e7-4582-8334-3d1f8b4b8fb5' target=\"_blank\">\n",
        "<img style='display:inline;max-height:16px;margin:0px;margin-right:7.5px;' src='data:image/svg+xml;base64,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' > </img>\n",
        "Created in <span style='font-weight:600;margin-left:4px;'>Deepnote</span></a>"
      ]
    }
  ]
}